{
 "cells": [
  {
   "cell_type": "markdown",
   "metadata": {},
   "source": [
    "# CFU | Data Types"
   ]
  },
  {
   "cell_type": "markdown",
   "metadata": {},
   "source": [
    "## Working with Data Types"
   ]
  },
  {
   "cell_type": "markdown",
   "metadata": {},
   "source": [
    "Objective: Practice working with different data types and their corresponding operations."
   ]
  },
  {
   "cell_type": "markdown",
   "metadata": {},
   "source": [
    "### Exercise 1: Calculate remaining salary"
   ]
  },
  {
   "cell_type": "markdown",
   "metadata": {},
   "source": [
    "In this exercise, prompt the user to enter their personal information such as name, age, address, salary, and expenses, and then perform some calculations to determine how much money they have left after expenses. \n",
    "\n",
    "Use data type casting to ensure that the age, salary, and expenses are stored as integers or floats, as appropriate, and round the remaining money to one decimal. \n",
    "\n",
    "Use a boolean variable to indicate whether the remaining salary is greater than or equal to 500. \n",
    "\n",
    "Finally, you will use string formatting to print a message to the screen in the following format: \n",
    "\"*name*, who is *age* years old, and lives in *address* has *remaining_salary* dollars left from her salary after expenses. It is *is_salary_good* that she has more than $500 left.\", using the mentioned variables.\n",
    "\n",
    "*Hint:* \n",
    "- *You can use the input() function to ask the user to enter their information. Beware that input() function returns a String.*\n",
    "- *You can round the remaining salary to one decimal using the round() function.*\n",
    "- *Use data type conversion functions. Recommended external resources: [Data type conversion](https://www.geeksforgeeks.org/type-conversion-in-python/)*"
   ]
  },
  {
   "cell_type": "code",
   "execution_count": 50,
   "metadata": {},
   "outputs": [],
   "source": [
    "# Your code here\n",
    "#personal_info = name (str), adresse(str), age(int), salary(float), expensens(float)\n",
    "\n",
    "# calc = money left salary - expenses (round(1))\n",
    "\n",
    "# if calc > 500, = True\n",
    "# else: False\n",
    "\n",
    "# print f' message(str) name{name}, who is {age} years young, and lives in {adresse} has {money left} from his {salary} after {expenses}"
   ]
  },
  {
   "cell_type": "code",
   "execution_count": 4,
   "metadata": {},
   "outputs": [
    {
     "name": "stdout",
     "output_type": "stream",
     "text": [
      "Robert K 123 Street, London 38 348509.0 1234.94\n"
     ]
    }
   ],
   "source": [
    "user_name = input(\"Please enter your personal information: name\")\n",
    "user_adress = input(\"Please enter your personal information: adress\")\n",
    "user_age = int(input(\"Please enter your personal information: age\"))\n",
    "user_salary = float(input(\"Please enter your personal information: montly salary\"))\n",
    "user_expenses = float(input(\"Please enter your personal information: expenses\"))\n",
    "\n",
    "print(user_name, user_adress, user_age, user_salary, user_expenses)"
   ]
  },
  {
   "cell_type": "code",
   "execution_count": 5,
   "metadata": {},
   "outputs": [
    {
     "data": {
      "text/plain": [
       "347274.1"
      ]
     },
     "execution_count": 5,
     "metadata": {},
     "output_type": "execute_result"
    }
   ],
   "source": [
    "remaining_salary = round(user_salary - user_expenses, 1)\n",
    "\n",
    "remaining_salary"
   ]
  },
  {
   "cell_type": "code",
   "execution_count": 6,
   "metadata": {},
   "outputs": [],
   "source": [
    "check500 = remaining_salary > 500"
   ]
  },
  {
   "cell_type": "code",
   "execution_count": 7,
   "metadata": {},
   "outputs": [
    {
     "name": "stdout",
     "output_type": "stream",
     "text": [
      " Robert K, who is 38 years young, and lives in 123 Street, London has 347274.1 € left from his salary after 1234.94 € expenses. It is True that he has more than $500 left.\n"
     ]
    }
   ],
   "source": [
    "print(f' {user_name}, who is {user_age} years young, and lives in {user_adress} has {remaining_salary} € left from his salary after {user_expenses} € expenses. It is {check500} that he has more than $500 left.')\n",
    "\n",
    "\n"
   ]
  },
  {
   "cell_type": "markdown",
   "metadata": {},
   "source": [
    "\n",
    "### Exercise 2: Text Cleaning and Concatenation"
   ]
  },
  {
   "cell_type": "markdown",
   "metadata": {},
   "source": [
    "Write code that takes text from the variable `poem`, removes the punctuation and leaves everything in lowercase. \n",
    "\n",
    "Concatenate the resulting string with the string \"python is awesome!\" and store the result in a new variable. \n",
    "\n",
    "Print the length of the new string.\n",
    "\n",
    "Split the string into a list of strings using the space delimiter, save it in a variable `poem_list` and print it. \n",
    "\n",
    "*Hint:*\n",
    "\n",
    "- *You can use the len() function to get the length of a string.*\n",
    "- *Search string methods to accomplish the other steps. Recommended External Resources: [Python String Methods](https://www.w3schools.com/python/python_ref_string.asp)*\n",
    "- *Use method chaining to simplify your code. If you are not sure what it is, read this tutorial before: https://pyneng.readthedocs.io/en/latest/book/04_data_structures/method_chaining.html*\n"
   ]
  },
  {
   "cell_type": "code",
   "execution_count": 8,
   "metadata": {},
   "outputs": [],
   "source": [
    "poem = \"\"\"Some say the world will end in fire,\n",
    "Some say in ice.\n",
    "From what I’ve tasted of desire\n",
    "I hold with those who favor fire.\n",
    "But if it had to perish twice,\n",
    "I think I know enough of hate\n",
    "To say that for destruction ice\n",
    "Is also great\n",
    "And would suffice.\"\"\""
   ]
  },
  {
   "cell_type": "code",
   "execution_count": 9,
   "metadata": {},
   "outputs": [
    {
     "data": {
      "text/plain": [
       "245"
      ]
     },
     "execution_count": 9,
     "metadata": {},
     "output_type": "execute_result"
    }
   ],
   "source": [
    "len(poem)"
   ]
  },
  {
   "cell_type": "code",
   "execution_count": 10,
   "metadata": {},
   "outputs": [
    {
     "data": {
      "text/plain": [
       "'From what I’ve tasted of desire\\nI hold with those who favor fire'"
      ]
     },
     "execution_count": 10,
     "metadata": {},
     "output_type": "execute_result"
    }
   ],
   "source": [
    "poem[54:-127]"
   ]
  },
  {
   "cell_type": "code",
   "execution_count": 44,
   "metadata": {},
   "outputs": [
    {
     "name": "stdout",
     "output_type": "stream",
     "text": [
      "Some say the world will end in fire Some say in ice From what I ve tasted of desire I hold with those who favor fire But if it had to perish twice I think I know enough of hate To say that for destruction ice Is also great And would suffice \n"
     ]
    }
   ],
   "source": [
    "poem_replaced = poem.replace(\",\", \" \").replace(\".\", \" \" ).replace(\"’\", \" \" ).replace(\"\\n\", \" \" ).replace(\"  \", \" \" ) \n",
    "print(poem_replaced) \n"
   ]
  },
  {
   "cell_type": "code",
   "execution_count": 45,
   "metadata": {},
   "outputs": [
    {
     "name": "stdout",
     "output_type": "stream",
     "text": [
      "some say the world will end in fire some say in ice from what i ve tasted of desire i hold with those who favor fire but if it had to perish twice i think i know enough of hate to say that for destruction ice is also great and would suffice \n"
     ]
    }
   ],
   "source": [
    "poem_lowercase = poem_replaced.lower()\n",
    "print(poem_lowercase)"
   ]
  },
  {
   "cell_type": "code",
   "execution_count": 46,
   "metadata": {},
   "outputs": [
    {
     "data": {
      "text/plain": [
       "'some say the world will end in fire some say in ice from what i ve tasted of desire i hold with those who favor fire but if it had to perish twice i think i know enough of hate to say that for destruction ice is also great and would suffice python is awesome!'"
      ]
     },
     "execution_count": 46,
     "metadata": {},
     "output_type": "execute_result"
    }
   ],
   "source": [
    "add = \"python is awesome!\"\n",
    "\n",
    "new_poem = poem_lowercase + add\n",
    "\n",
    "new_poem"
   ]
  },
  {
   "cell_type": "code",
   "execution_count": 47,
   "metadata": {},
   "outputs": [
    {
     "data": {
      "text/plain": [
       "'some say the world will end in fire some say in ice from what i ve tasted of desire i hold with those who favor fire but if it had to perish twice i think i know enough of hate to say that for destruction ice is also great and would suffice python is awesome!'"
      ]
     },
     "execution_count": 47,
     "metadata": {},
     "output_type": "execute_result"
    }
   ],
   "source": [
    "new_poem.strip()"
   ]
  },
  {
   "cell_type": "code",
   "execution_count": 50,
   "metadata": {},
   "outputs": [
    {
     "data": {
      "text/plain": [
       "259"
      ]
     },
     "execution_count": 50,
     "metadata": {},
     "output_type": "execute_result"
    }
   ],
   "source": [
    "len(new_poem)"
   ]
  },
  {
   "cell_type": "code",
   "execution_count": 52,
   "metadata": {},
   "outputs": [
    {
     "data": {
      "text/plain": [
       "['some',\n",
       " 'say',\n",
       " 'the',\n",
       " 'world',\n",
       " 'will',\n",
       " 'end',\n",
       " 'in',\n",
       " 'fire',\n",
       " 'some',\n",
       " 'say',\n",
       " 'in',\n",
       " 'ice',\n",
       " 'from',\n",
       " 'what',\n",
       " 'i',\n",
       " 've',\n",
       " 'tasted',\n",
       " 'of',\n",
       " 'desire',\n",
       " 'i',\n",
       " 'hold',\n",
       " 'with',\n",
       " 'those',\n",
       " 'who',\n",
       " 'favor',\n",
       " 'fire',\n",
       " 'but',\n",
       " 'if',\n",
       " 'it',\n",
       " 'had',\n",
       " 'to',\n",
       " 'perish',\n",
       " 'twice',\n",
       " 'i',\n",
       " 'think',\n",
       " 'i',\n",
       " 'know',\n",
       " 'enough',\n",
       " 'of',\n",
       " 'hate',\n",
       " 'to',\n",
       " 'say',\n",
       " 'that',\n",
       " 'for',\n",
       " 'destruction',\n",
       " 'ice',\n",
       " 'is',\n",
       " 'also',\n",
       " 'great',\n",
       " 'and',\n",
       " 'would',\n",
       " 'suffice',\n",
       " 'python',\n",
       " 'is',\n",
       " 'awesome!']"
      ]
     },
     "execution_count": 52,
     "metadata": {},
     "output_type": "execute_result"
    }
   ],
   "source": [
    "new_poem.split(\" \")"
   ]
  },
  {
   "cell_type": "code",
   "execution_count": 54,
   "metadata": {},
   "outputs": [
    {
     "data": {
      "text/plain": [
       "[['some',\n",
       "  'say',\n",
       "  'the',\n",
       "  'world',\n",
       "  'will',\n",
       "  'end',\n",
       "  'in',\n",
       "  'fire',\n",
       "  'some',\n",
       "  'say',\n",
       "  'in',\n",
       "  'ice',\n",
       "  'from',\n",
       "  'what',\n",
       "  'i',\n",
       "  've',\n",
       "  'tasted',\n",
       "  'of',\n",
       "  'desire',\n",
       "  'i',\n",
       "  'hold',\n",
       "  'with',\n",
       "  'those',\n",
       "  'who',\n",
       "  'favor',\n",
       "  'fire',\n",
       "  'but',\n",
       "  'if',\n",
       "  'it',\n",
       "  'had',\n",
       "  'to',\n",
       "  'perish',\n",
       "  'twice',\n",
       "  'i',\n",
       "  'think',\n",
       "  'i',\n",
       "  'know',\n",
       "  'enough',\n",
       "  'of',\n",
       "  'hate',\n",
       "  'to',\n",
       "  'say',\n",
       "  'that',\n",
       "  'for',\n",
       "  'destruction',\n",
       "  'ice',\n",
       "  'is',\n",
       "  'also',\n",
       "  'great',\n",
       "  'and',\n",
       "  'would',\n",
       "  'suffice',\n",
       "  'python',\n",
       "  'is',\n",
       "  'awesome!']]"
      ]
     },
     "execution_count": 54,
     "metadata": {},
     "output_type": "execute_result"
    }
   ],
   "source": [
    "poem_list = [new_poem.split(\" \")]\n",
    "poem_list"
   ]
  }
 ],
 "metadata": {
  "kernelspec": {
   "display_name": "base",
   "language": "python",
   "name": "python3"
  },
  "language_info": {
   "codemirror_mode": {
    "name": "ipython",
    "version": 3
   },
   "file_extension": ".py",
   "mimetype": "text/x-python",
   "name": "python",
   "nbconvert_exporter": "python",
   "pygments_lexer": "ipython3",
   "version": "3.12.7"
  }
 },
 "nbformat": 4,
 "nbformat_minor": 4
}
